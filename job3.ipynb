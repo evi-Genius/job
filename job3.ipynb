{
 "cells": [
  {
   "cell_type": "markdown",
   "metadata": {},
   "source": [
    "## 生成2通道的重叠染色体图像"
   ]
  },
  {
   "cell_type": "code",
   "execution_count": 1,
   "metadata": {},
   "outputs": [],
   "source": [
    "import os\n",
    "import numpy as np\n",
    "import cv2 \n",
    "import math\n",
    "import random"
   ]
  },
  {
   "cell_type": "code",
   "execution_count": 2,
   "metadata": {},
   "outputs": [],
   "source": [
    "#存放单个染色体图片的文件夹路径\n",
    "path='/home/xiang/Desktop/Share/ImgSeparateAndMix/chromosome_data/chromosome/F'"
   ]
  },
  {
   "cell_type": "code",
   "execution_count": 3,
   "metadata": {},
   "outputs": [],
   "source": [
    "def rotate_bound(image, angle):\n",
    "    # grab the dimensions of the image and then determine the\n",
    "    # center\n",
    "    (h, w) = image.shape[:2]\n",
    "    (cX, cY) = (w // 2, h // 2)\n",
    "    # grab the rotation matrix (applying the \n",
    "    # angle to rotate clockwise), then grab the sine and cosine\n",
    "    # (i.e., the rotation components of the matrix)\n",
    "    M = cv2.getRotationMatrix2D((cX, cY), angle, 1.0)\n",
    "    cos = np.abs(M[0, 0])\n",
    "    sin = np.abs(M[0, 1])\n",
    "    # compute the new bounding dimensions of the image\n",
    "    nW = int((h * sin) + (w * cos))\n",
    "    nH = int((h * cos) + (w * sin))\n",
    "    # adjust the rotation matrix to take into account translation\n",
    "    M[0, 2] += (nW / 2) - cX\n",
    "    M[1, 2] += (nH / 2) - cY\n",
    "    # perform the actual rotation and return the imageb\n",
    "#     angle=angle%90\n",
    "    return cv2.warpAffine(image, M, (nW, nH),borderValue=(0,0,0))"
   ]
  },
  {
   "cell_type": "code",
   "execution_count": 4,
   "metadata": {},
   "outputs": [],
   "source": [
    "def padding(img,height,width):\n",
    "    (h,w)=img.shape[:2]\n",
    "    a=height-h\n",
    "    b=width-w\n",
    "    if a>0 and b>0:\n",
    "        an=np.zeros([a,w])\n",
    "        img=np.r_[img,an]\n",
    "        bn=np.zeros([height,b])\n",
    "        img=np.c_[img,bn]\n",
    "    elif a>0:\n",
    "        an=np.zeros([a,w])\n",
    "        img=np.r_[img,an]\n",
    "    elif b>0:\n",
    "        bn=np.zeros([h,b])\n",
    "        img=np.c_[img,bn]\n",
    "    return img"
   ]
  },
  {
   "cell_type": "code",
   "execution_count": 5,
   "metadata": {},
   "outputs": [],
   "source": [
    "def make_Mask_And_Double(img1,img2):\n",
    "    angle1=random.randint(0,360)\n",
    "    angle2=random.randint(0,360)\n",
    "    #如果角度不对，重新random\n",
    "#     if not (abs(angle2%180-angle1%180)>70 and abs(angle1%180-angle2%180)<110):\n",
    "#         continue\n",
    "    img1=255-img1\n",
    "    img2=255-img2\n",
    "    img1=rotate_bound(img1,angle1)\n",
    "    img2=rotate_bound(img2,angle2)\n",
    "    img1 = cv2.cvtColor(img1,cv2.COLOR_BGR2GRAY)\n",
    "    img2 = cv2.cvtColor(img2,cv2.COLOR_BGR2GRAY)\n",
    "    width=max(img1.shape[1],img2.shape[1])\n",
    "    height=max(img1.shape[0],img2.shape[0])\n",
    "    img1=padding(img1,height,width)\n",
    "    img2=padding(img2,height,width)\n",
    "    \n",
    "    \n",
    "    \n",
    "    sum1=img1[img1!=0]\n",
    "    sum2=img2[img2!=0]\n",
    "    sumAnd=len(sum1)+len(sum2)\n",
    "    arraryall=img1+img2\n",
    "    sumUnion=len(arraryall[arraryall!=0])\n",
    "    sumDiffer=sumAnd-sumUnion\n",
    "    \n",
    "    imgall=img1+img2\n",
    "    sumUnion=len(imgall[imgall!=0])\n",
    "    mask=np.zeros([height,width,2],dtype=np.uint8)\n",
    "    double=np.zeros([height,width],dtype=np.uint8)\n",
    "    #如果没有重叠，退出\n",
    "    if sumDiffer==0:\n",
    "        return False,mask,double\n",
    "    \n",
    "    for i in range(0,height):\n",
    "        for j in range(0,width):\n",
    "            #重叠部分\n",
    "            if img1[i,j]!=0 and img2[i,j]!=0:\n",
    "                mask[i,j,0]=255\n",
    "                mask[i,j,1]=255\n",
    "                sum=(int(img1[i,j]*0.7)+int(img2[i,j]*0.7))\n",
    "                double[i,j]=255 if sum>255 else sum\n",
    "                continue\n",
    "            elif img1[i,j]!=0:\n",
    "                mask[i,j,0]=255\n",
    "            elif img2[i,j]!=0:\n",
    "                mask[i,j,1]=255\n",
    "            else:\n",
    "                mask[i,j,0],mask[i,j,1]=0,0\n",
    "            double[i,j]=img1[i,j]+img2[i,j]\n",
    "    return True,mask,double"
   ]
  },
  {
   "cell_type": "code",
   "execution_count": 6,
   "metadata": {},
   "outputs": [
    {
     "name": "stdout",
     "output_type": "stream",
     "text": [
      "0\n",
      "2\n",
      "3\n",
      "4\n",
      "5\n",
      "6\n",
      "7\n",
      "8\n",
      "9\n"
     ]
    }
   ],
   "source": [
    "img_list=os.listdir(path)\n",
    "for i,img_name in enumerate(img_list):\n",
    "    if i==10:\n",
    "        break\n",
    "    a=random.randint(0,len(img_list)-1)  \n",
    "    b=random.randint(0,len(img_list)-1)\n",
    "    img1=cv2.imread(os.path.join(path,img_list[a]))\n",
    "    img2=cv2.imread(os.path.join(path,img_list[b]))\n",
    "    bo,mask,imgDouble=make_Mask_And_Double(img1,img2)\n",
    "    if not bo:\n",
    "        continue\n",
    "    imgDouble = cv2.GaussianBlur(imgDouble,(3,3),0)\n",
    "    cv2.imwrite('mask_and_double/{}_Double.png'.format(i),imgDouble)\n",
    "    cv2.imwrite('mask_and_double/{}_mask1.png'.format(i),mask[:,:,0])\n",
    "    cv2.imwrite('mask_and_double/{}_mask2.png'.format(i),mask[:,:,1])\n",
    "    print(i)\n",
    "#     cv2.imshow('img',imgDouble)\n",
    "#     cv2.imshow('img1',mask[:,:,0])\n",
    "#     cv2.imshow('img2',mask[:,:,1])\n",
    "#     cv2.waitKey(0)\n",
    "#     cv2.destroyAllWindows()\n",
    "#     break"
   ]
  },
  {
   "cell_type": "code",
   "execution_count": null,
   "metadata": {},
   "outputs": [],
   "source": [
    "\n",
    "\n"
   ]
  },
  {
   "cell_type": "code",
   "execution_count": null,
   "metadata": {},
   "outputs": [],
   "source": []
  }
 ],
 "metadata": {
  "kernelspec": {
   "display_name": "Python 3",
   "language": "python",
   "name": "python3"
  },
  "language_info": {
   "codemirror_mode": {
    "name": "ipython",
    "version": 3
   },
   "file_extension": ".py",
   "mimetype": "text/x-python",
   "name": "python",
   "nbconvert_exporter": "python",
   "pygments_lexer": "ipython3",
   "version": "3.7.2"
  }
 },
 "nbformat": 4,
 "nbformat_minor": 2
}
